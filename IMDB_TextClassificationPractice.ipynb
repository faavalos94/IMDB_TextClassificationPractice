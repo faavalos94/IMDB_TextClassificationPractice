{
 "cells": [
  {
   "cell_type": "code",
   "execution_count": 1,
   "id": "eef084c6-63aa-4c9b-9993-b8b493d934e3",
   "metadata": {},
   "outputs": [],
   "source": [
    "# Import necessary libraries\n",
    "from datasets import load_dataset, concatenate_datasets\n",
    "import pandas as pd\n",
    "from nltk import word_tokenize\n",
    "from sklearn.model_selection import train_test_split\n",
    "from sklearn.feature_extraction.text import TfidfVectorizer\n",
    "from sklearn.linear_model import LogisticRegression\n",
    "from sklearn.metrics import accuracy_score, confusion_matrix, classification_report"
   ]
  },
  {
   "cell_type": "code",
   "execution_count": 2,
   "id": "6664d3c9-0286-4959-b63e-23f713c17286",
   "metadata": {},
   "outputs": [],
   "source": [
    "# Load the Hugging Face dataset\n",
    "imdb = load_dataset('imdb')"
   ]
  },
  {
   "cell_type": "code",
   "execution_count": 3,
   "id": "277351d3-9f7a-4885-be64-809544d95435",
   "metadata": {},
   "outputs": [],
   "source": [
    "# Combine train and test splits\n",
    "imdb_combined = concatenate_datasets([imdb['train'], imdb['test']])"
   ]
  },
  {
   "cell_type": "code",
   "execution_count": 4,
   "id": "960a2188-b509-4369-b521-47b564d69c17",
   "metadata": {},
   "outputs": [],
   "source": [
    "# Shuffle the combined IMDb dataset\n",
    "imdb_combined = imdb_combined.shuffle(seed=9)"
   ]
  },
  {
   "cell_type": "code",
   "execution_count": 5,
   "id": "7eca12a0-6e92-4e05-bbab-c7cd6051ce56",
   "metadata": {},
   "outputs": [],
   "source": [
    "# Convert to pandas DataFrame\n",
    "imdb_df = imdb_combined.to_pandas()"
   ]
  },
  {
   "cell_type": "code",
   "execution_count": 6,
   "id": "636b2756-51b0-41d3-add2-4be23b5dfb9d",
   "metadata": {},
   "outputs": [
    {
     "name": "stdout",
     "output_type": "stream",
     "text": [
      "                                                text  label\n",
      "0  Wow what a great premise for a film : Set it a...      0\n",
      "1  Why watch this? There is only one reason and t...      0\n",
      "2  Some people think this was a rather bad TV ser...      1\n",
      "3  Warning: If the Coen Brothers or David Lynch d...      1\n",
      "4  I saw this movie in the theater when it came o...      1\n"
     ]
    }
   ],
   "source": [
    "# Display first 5 rows\n",
    "print(imdb_df.head())"
   ]
  },
  {
   "cell_type": "code",
   "execution_count": 7,
   "id": "520bf4b8-1b36-44d3-9a15-6f6f0ec5a3c1",
   "metadata": {},
   "outputs": [
    {
     "name": "stdout",
     "output_type": "stream",
     "text": [
      "(50000, 2)\n"
     ]
    }
   ],
   "source": [
    "print(imdb_df.shape)"
   ]
  },
  {
   "cell_type": "code",
   "execution_count": 8,
   "id": "7891b839-a5c5-4bef-bb30-b581b36476f5",
   "metadata": {},
   "outputs": [],
   "source": [
    "# Get labels and features\n",
    "features = imdb_df['text']\n",
    "labels = imdb_df['label']"
   ]
  },
  {
   "cell_type": "code",
   "execution_count": 9,
   "id": "3149a2cf-f570-4778-8bb3-fab2160a67e3",
   "metadata": {},
   "outputs": [],
   "source": [
    "# Split into training and testing sets\n",
    "X_train, X_test, y_train, y_test = train_test_split(features, labels, test_size=0.2, random_state=9)"
   ]
  },
  {
   "cell_type": "code",
   "execution_count": 10,
   "id": "272820f0-eb8f-4aef-ade3-c258286dfc2e",
   "metadata": {},
   "outputs": [
    {
     "name": "stdout",
     "output_type": "stream",
     "text": [
      "        00  000  00000000000  00000001  00001  00015  000dm  000s  001  006  \\\n",
      "0      0.0  0.0          0.0       0.0    0.0    0.0    0.0   0.0  0.0  0.0   \n",
      "1      0.0  0.0          0.0       0.0    0.0    0.0    0.0   0.0  0.0  0.0   \n",
      "2      0.0  0.0          0.0       0.0    0.0    0.0    0.0   0.0  0.0  0.0   \n",
      "3      0.0  0.0          0.0       0.0    0.0    0.0    0.0   0.0  0.0  0.0   \n",
      "4      0.0  0.0          0.0       0.0    0.0    0.0    0.0   0.0  0.0  0.0   \n",
      "...    ...  ...          ...       ...    ...    ...    ...   ...  ...  ...   \n",
      "39995  0.0  0.0          0.0       0.0    0.0    0.0    0.0   0.0  0.0  0.0   \n",
      "39996  0.0  0.0          0.0       0.0    0.0    0.0    0.0   0.0  0.0  0.0   \n",
      "39997  0.0  0.0          0.0       0.0    0.0    0.0    0.0   0.0  0.0  0.0   \n",
      "39998  0.0  0.0          0.0       0.0    0.0    0.0    0.0   0.0  0.0  0.0   \n",
      "39999  0.0  0.0          0.0       0.0    0.0    0.0    0.0   0.0  0.0  0.0   \n",
      "\n",
      "       ...  über  übermensch  überwoman  üvegtigris  üzümcü  þorleifsson  þór  \\\n",
      "0      ...   0.0         0.0        0.0         0.0     0.0          0.0  0.0   \n",
      "1      ...   0.0         0.0        0.0         0.0     0.0          0.0  0.0   \n",
      "2      ...   0.0         0.0        0.0         0.0     0.0          0.0  0.0   \n",
      "3      ...   0.0         0.0        0.0         0.0     0.0          0.0  0.0   \n",
      "4      ...   0.0         0.0        0.0         0.0     0.0          0.0  0.0   \n",
      "...    ...   ...         ...        ...         ...     ...          ...  ...   \n",
      "39995  ...   0.0         0.0        0.0         0.0     0.0          0.0  0.0   \n",
      "39996  ...   0.0         0.0        0.0         0.0     0.0          0.0  0.0   \n",
      "39997  ...   0.0         0.0        0.0         0.0     0.0          0.0  0.0   \n",
      "39998  ...   0.0         0.0        0.0         0.0     0.0          0.0  0.0   \n",
      "39999  ...   0.0         0.0        0.0         0.0     0.0          0.0  0.0   \n",
      "\n",
      "       żmijewski  יגאל  כרמון  \n",
      "0            0.0   0.0    0.0  \n",
      "1            0.0   0.0    0.0  \n",
      "2            0.0   0.0    0.0  \n",
      "3            0.0   0.0    0.0  \n",
      "4            0.0   0.0    0.0  \n",
      "...          ...   ...    ...  \n",
      "39995        0.0   0.0    0.0  \n",
      "39996        0.0   0.0    0.0  \n",
      "39997        0.0   0.0    0.0  \n",
      "39998        0.0   0.0    0.0  \n",
      "39999        0.0   0.0    0.0  \n",
      "\n",
      "[40000 rows x 92763 columns]\n"
     ]
    }
   ],
   "source": [
    "# Initialize a TfidfVectorizer instance and fit to text data\n",
    "tfidf_vect = TfidfVectorizer(stop_words='english', max_df=0.4)\n",
    "\n",
    "# Fit and transform vectorizer to train set, transform test set\n",
    "tfidf_train = tfidf_vect.fit_transform(X_train)\n",
    "tfidf_test = tfidf_vect.transform(X_test)\n",
    "\n",
    "# Display DataFrame of transformed train set\n",
    "print(pd.DataFrame(tfidf_train.toarray(), columns=tfidf_vect.get_feature_names_out()))"
   ]
  },
  {
   "cell_type": "code",
   "execution_count": 11,
   "id": "0c483a10-608a-44a4-b4de-4565b10bca5e",
   "metadata": {},
   "outputs": [
    {
     "name": "stdout",
     "output_type": "stream",
     "text": [
      "Accuracy Score: 89.5%\n"
     ]
    }
   ],
   "source": [
    "# Initialize a LogisticRegression instance and fit to training set\n",
    "log_reg = LogisticRegression(random_state=9)\n",
    "log_reg.fit(tfidf_train, y_train)\n",
    "\n",
    "# Predict on the test set and caculate accuracy\n",
    "y_pred = log_reg.predict(tfidf_test)\n",
    "acc_score = accuracy_score(y_test, y_pred)\n",
    "print('Accuracy Score: {:.1%}'.format(acc_score))"
   ]
  },
  {
   "cell_type": "code",
   "execution_count": 12,
   "id": "de6c47a0-4e74-476a-b72a-bd622e516c8a",
   "metadata": {},
   "outputs": [
    {
     "name": "stdout",
     "output_type": "stream",
     "text": [
      "[0 1 0 1 0 0 1 0 1 0]\n",
      "[1 1 0 1 0 0 1 0 1 0]\n"
     ]
    }
   ],
   "source": [
    "print(y_test.values[:10])\n",
    "print(y_pred[:10])"
   ]
  },
  {
   "cell_type": "code",
   "execution_count": 13,
   "id": "d29f58ee-d5d6-4bc3-814e-91186a8abfd3",
   "metadata": {},
   "outputs": [
    {
     "name": "stdout",
     "output_type": "stream",
     "text": [
      "[[4365  590]\n",
      " [ 461 4584]]\n"
     ]
    }
   ],
   "source": [
    "# Build confusion_matrix\n",
    "print(confusion_matrix(y_test, y_pred))"
   ]
  },
  {
   "cell_type": "code",
   "execution_count": 14,
   "id": "9d28fd42-feb2-4514-9795-fc7f9f840945",
   "metadata": {},
   "outputs": [
    {
     "name": "stdout",
     "output_type": "stream",
     "text": [
      "              precision    recall  f1-score   support\n",
      "\n",
      "           0       0.90      0.88      0.89      4955\n",
      "           1       0.89      0.91      0.90      5045\n",
      "\n",
      "    accuracy                           0.89     10000\n",
      "   macro avg       0.90      0.89      0.89     10000\n",
      "weighted avg       0.90      0.89      0.89     10000\n",
      "\n"
     ]
    }
   ],
   "source": [
    "# Build classification_report\n",
    "print(classification_report(y_test, y_pred))"
   ]
  },
  {
   "cell_type": "code",
   "execution_count": 15,
   "id": "2bc08d5f-054d-4207-b690-459a84ab1117",
   "metadata": {},
   "outputs": [],
   "source": [
    "# Lets test it out with a review of our own\n",
    "text = ['That movie was so bad, not good at all.']\n",
    "text_vect = tfidf_vect.transform(text)"
   ]
  },
  {
   "cell_type": "code",
   "execution_count": 16,
   "id": "5b913186-2042-44ed-9d9e-3a4b0a5fdf55",
   "metadata": {},
   "outputs": [
    {
     "data": {
      "text/plain": [
       "array([0])"
      ]
     },
     "execution_count": 16,
     "metadata": {},
     "output_type": "execute_result"
    }
   ],
   "source": [
    "# Predicts 0 = negative\n",
    "log_reg.predict(text_vect)"
   ]
  },
  {
   "cell_type": "code",
   "execution_count": null,
   "id": "04de62e5-25ba-4091-9b63-273d1ea3eeaa",
   "metadata": {},
   "outputs": [],
   "source": []
  }
 ],
 "metadata": {
  "kernelspec": {
   "display_name": "Python 3 (ipykernel)",
   "language": "python",
   "name": "python3"
  },
  "language_info": {
   "codemirror_mode": {
    "name": "ipython",
    "version": 3
   },
   "file_extension": ".py",
   "mimetype": "text/x-python",
   "name": "python",
   "nbconvert_exporter": "python",
   "pygments_lexer": "ipython3",
   "version": "3.11.10"
  }
 },
 "nbformat": 4,
 "nbformat_minor": 5
}
