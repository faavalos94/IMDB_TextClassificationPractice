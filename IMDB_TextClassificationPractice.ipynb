{
 "cells": [
  {
   "cell_type": "code",
   "execution_count": 1,
   "id": "eef084c6-63aa-4c9b-9993-b8b493d934e3",
   "metadata": {},
   "outputs": [],
   "source": [
    "from datasets import load_dataset, concatenate_datasets\n",
    "import pandas as pd\n",
    "from sklearn.model_selection import train_test_split\n",
    "from sklearn.feature_extraction.text import TfidfVectorizer\n",
    "from sklearn.linear_model import PassiveAggressiveClassifier\n",
    "from sklearn.metrics import accuracy_score, confusion_matrix"
   ]
  },
  {
   "cell_type": "code",
   "execution_count": 2,
   "id": "6664d3c9-0286-4959-b63e-23f713c17286",
   "metadata": {},
   "outputs": [],
   "source": [
    "# Load the dataset\n",
    "imdb = load_dataset('imdb')"
   ]
  },
  {
   "cell_type": "code",
   "execution_count": 3,
   "id": "277351d3-9f7a-4885-be64-809544d95435",
   "metadata": {},
   "outputs": [],
   "source": [
    "# Combine train and test split\n",
    "imdb_combined = concatenate_datasets([imdb['train'], imdb['test']])"
   ]
  },
  {
   "cell_type": "code",
   "execution_count": 4,
   "id": "960a2188-b509-4369-b521-47b564d69c17",
   "metadata": {},
   "outputs": [],
   "source": [
    "# Shuffle the combined IMDB dataset\n",
    "imdb_combined = imdb_combined.shuffle(seed=9)"
   ]
  },
  {
   "cell_type": "code",
   "execution_count": 5,
   "id": "7eca12a0-6e92-4e05-bbab-c7cd6051ce56",
   "metadata": {},
   "outputs": [],
   "source": [
    "# Convert to pandas DataFrame\n",
    "imdb_df = imdb_combined.to_pandas()"
   ]
  },
  {
   "cell_type": "code",
   "execution_count": 6,
   "id": "636b2756-51b0-41d3-add2-4be23b5dfb9d",
   "metadata": {},
   "outputs": [
    {
     "name": "stdout",
     "output_type": "stream",
     "text": [
      "                                                text  label\n",
      "0  Wow what a great premise for a film : Set it a...      0\n",
      "1  Why watch this? There is only one reason and t...      0\n",
      "2  Some people think this was a rather bad TV ser...      1\n",
      "3  Warning: If the Coen Brothers or David Lynch d...      1\n",
      "4  I saw this movie in the theater when it came o...      1\n"
     ]
    }
   ],
   "source": [
    "# Display first 5 rows\n",
    "print(imdb_df.head())"
   ]
  },
  {
   "cell_type": "code",
   "execution_count": 7,
   "id": "520bf4b8-1b36-44d3-9a15-6f6f0ec5a3c1",
   "metadata": {},
   "outputs": [
    {
     "name": "stdout",
     "output_type": "stream",
     "text": [
      "(50000, 2)\n"
     ]
    }
   ],
   "source": [
    "print(imdb_df.shape)"
   ]
  },
  {
   "cell_type": "code",
   "execution_count": 8,
   "id": "7891b839-a5c5-4bef-bb30-b581b36476f5",
   "metadata": {},
   "outputs": [],
   "source": [
    "# Get labels and features\n",
    "features = imdb_df['text']\n",
    "labels = imdb_df['label']"
   ]
  },
  {
   "cell_type": "code",
   "execution_count": 9,
   "id": "3149a2cf-f570-4778-8bb3-fab2160a67e3",
   "metadata": {},
   "outputs": [],
   "source": [
    "# Split into training and testing sets\n",
    "X_train, X_test, y_train, y_test = train_test_split(features, labels, test_size=0.2, random_state=9)"
   ]
  },
  {
   "cell_type": "code",
   "execution_count": 10,
   "id": "272820f0-eb8f-4aef-ade3-c258286dfc2e",
   "metadata": {},
   "outputs": [],
   "source": [
    "# Initialize a TfidfVectorizer instance\n",
    "tfidf_vect = TfidfVectorizer(stop_words='english', max_df=0.75)\n",
    "\n",
    "# Fit and transform train set, transform test set\n",
    "tfidf_train = tfidf_vect.fit_transform(X_train)\n",
    "tfidf_test = tfidf_vect.transform(X_test)"
   ]
  },
  {
   "cell_type": "code",
   "execution_count": 11,
   "id": "44d70007-039e-4ce1-826a-7b6783619c2a",
   "metadata": {},
   "outputs": [
    {
     "name": "stdout",
     "output_type": "stream",
     "text": [
      "    00  000  00000000000  00000001  00001  00015  000dm  000s  001  006  ...  \\\n",
      "0  0.0  0.0          0.0       0.0    0.0    0.0    0.0   0.0  0.0  0.0  ...   \n",
      "1  0.0  0.0          0.0       0.0    0.0    0.0    0.0   0.0  0.0  0.0  ...   \n",
      "2  0.0  0.0          0.0       0.0    0.0    0.0    0.0   0.0  0.0  0.0  ...   \n",
      "3  0.0  0.0          0.0       0.0    0.0    0.0    0.0   0.0  0.0  0.0  ...   \n",
      "4  0.0  0.0          0.0       0.0    0.0    0.0    0.0   0.0  0.0  0.0  ...   \n",
      "\n",
      "   über  übermensch  überwoman  üvegtigris  üzümcü  þorleifsson  þór  \\\n",
      "0   0.0         0.0        0.0         0.0     0.0          0.0  0.0   \n",
      "1   0.0         0.0        0.0         0.0     0.0          0.0  0.0   \n",
      "2   0.0         0.0        0.0         0.0     0.0          0.0  0.0   \n",
      "3   0.0         0.0        0.0         0.0     0.0          0.0  0.0   \n",
      "4   0.0         0.0        0.0         0.0     0.0          0.0  0.0   \n",
      "\n",
      "   żmijewski  יגאל  כרמון  \n",
      "0        0.0   0.0    0.0  \n",
      "1        0.0   0.0    0.0  \n",
      "2        0.0   0.0    0.0  \n",
      "3        0.0   0.0    0.0  \n",
      "4        0.0   0.0    0.0  \n",
      "\n",
      "[5 rows x 92768 columns]\n"
     ]
    }
   ],
   "source": [
    "# Create DataFrame using the Tfidf vectorizer and transformed train dataset\n",
    "print((pd.DataFrame(tfidf_train.toarray(), columns=tfidf_vect.get_feature_names_out())).head())"
   ]
  },
  {
   "cell_type": "code",
   "execution_count": 12,
   "id": "0c483a10-608a-44a4-b4de-4565b10bca5e",
   "metadata": {},
   "outputs": [
    {
     "name": "stdout",
     "output_type": "stream",
     "text": [
      "Accuracy Score: 0.89%\n"
     ]
    }
   ],
   "source": [
    "# Initialize a PassiveAggressiveClassifier instance and fit to training set\n",
    "# pac = PassiveAggressiveClassifier(max_iter=50, random_state=9)\n",
    "from sklearn.linear_model import LogisticRegression\n",
    "log_reg = LogisticRegression(random_state=9)\n",
    "log_reg.fit(tfidf_train, y_train)\n",
    "\n",
    "# Predict on the test set and caculate accuracy\n",
    "y_pred = log_reg.predict(tfidf_test)\n",
    "acc_score = accuracy_score(y_test, y_pred)\n",
    "print('Accuracy Score: {:.2f}%'.format(acc_score))"
   ]
  },
  {
   "cell_type": "code",
   "execution_count": 13,
   "id": "de6c47a0-4e74-476a-b72a-bd622e516c8a",
   "metadata": {},
   "outputs": [
    {
     "name": "stdout",
     "output_type": "stream",
     "text": [
      "[0 1 0 1 0 0 1 0 1 0]\n",
      "[1 1 0 1 0 0 1 0 1 0]\n"
     ]
    }
   ],
   "source": [
    "print(y_test.values[:10])\n",
    "print(y_pred[:10])"
   ]
  },
  {
   "cell_type": "code",
   "execution_count": null,
   "id": "d29f58ee-d5d6-4bc3-814e-91186a8abfd3",
   "metadata": {},
   "outputs": [],
   "source": []
  }
 ],
 "metadata": {
  "kernelspec": {
   "display_name": "Python 3 (ipykernel)",
   "language": "python",
   "name": "python3"
  },
  "language_info": {
   "codemirror_mode": {
    "name": "ipython",
    "version": 3
   },
   "file_extension": ".py",
   "mimetype": "text/x-python",
   "name": "python",
   "nbconvert_exporter": "python",
   "pygments_lexer": "ipython3",
   "version": "3.11.10"
  }
 },
 "nbformat": 4,
 "nbformat_minor": 5
}
